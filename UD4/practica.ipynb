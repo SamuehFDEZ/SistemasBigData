{
 "cells": [
  {
   "cell_type": "markdown",
   "metadata": {},
   "source": [
    "<p style=\"text-align:center; font-size: 50px\">Caso práctico TEMA 4</p>\n"
   ]
  },
  {
   "cell_type": "markdown",
   "metadata": {},
   "source": [
    "<div style=\"position: relative; right: -170px;\">\n",
    "    <img src=\"https://logohistory.net/wp-content/uploads/2023/06/Python-Emblem.png\" \n",
    "        alt=\"python\" \n",
    "        style=\"width: 550px; heigth: 100 px;\">\n",
    "</div>"
   ]
  },
  {
   "cell_type": "markdown",
   "metadata": {},
   "source": [
    "<p style=\"text-align:right;\"> Nombre: Samuel Arteaga López </p>\n",
    "<p style=\"text-align:right;\"> Módulo: Sistemas de Big Data </p>\n",
    "<p style=\"text-align:right;\"> Fecha de entrega: 6/02/2025 </p> "
   ]
  },
  {
   "cell_type": "markdown",
   "metadata": {},
   "source": [
    "# <strong>Índice</strong>\n",
    "1. [Importación de librerías](#importación-de-librerias)\n",
    "2. [Apartado 1: Crear DataFrame con datos de Enrique](#creación-del-dataframe)\n",
    "3. [Apartado 2: Añadir puntuaciones de Ana](#calculo-de-total-de-gastos-y-beneficio)\n",
    "4. [Apartado 3: Ajustar escala de PuntosAna](#obtencion-de-meses-con-ingresos-y-beneficios-máximos-y-minimos)\n",
    "5. [Apartado 4: Añadir nuevas razas](#agrupacion-de-ingresos-y-beneficios)\n",
    "6. [Apartado 5: Calcular la media](#funcion-de-calcular-moda)\n",
    "7. [Apartado 6: Eliminar Bulldog](#calculos-estadisticos)\n",
    "8. [Apartado 7: Filtrar solo las razas seleccionadas](#representaciones-graficas)\n",
    "9. [Apartado 8: Mostrar estadísticas](#representaciones-graficas)"
   ]
  },
  {
   "cell_type": "markdown",
   "metadata": {},
   "source": [
    "Enrique y Ana se conocieron hace 3 años y han decidido irse a vivir juntos.\n",
    "Les encantan los perros, así que además están pensando en adoptar uno. Enrique, que\n",
    "es programador, creó hace unos días un sencillo programa en Python para poder dar un\n",
    "vistazo rápido a las razas que más le gustan, a modo de DataFrame de Pandas en el que\n",
    "contempla tanto el nombre de la raza como una puntuación de 0 a 10 indicando cuánto le\n",
    "gusta esa raza. <br>\n",
    "Ana está de acuerdo en adoptar una de las razas que Enrique tiene contempladas, así\n",
    "que le ha dicho cuánto le gusta cada una de ellas (de 0 a 100) para que Enrique lo integre\n",
    "en su DataFrame. Así podrán calcular medias para decidir qué raza les gusta más a los\n",
    "dos."
   ]
  },
  {
   "cell_type": "markdown",
   "metadata": {},
   "source": [
    "## ¿Qué te pedimos que hagas?\n",
    "A continuación tienes la primera parte del programa de Enrique. Accede al intérprete de\n",
    "Python en trinket.io, pega el código fuente que te entregamos y ejecútalo (con el botón del\n",
    "triángulo negro de la parte superior)."
   ]
  },
  {
   "cell_type": "markdown",
   "metadata": {},
   "source": [
    "## Importación de librerias"
   ]
  },
  {
   "cell_type": "code",
   "execution_count": 1,
   "metadata": {},
   "outputs": [],
   "source": [
    "import pandas as pd"
   ]
  },
  {
   "cell_type": "markdown",
   "metadata": {},
   "source": [
    "## Apartado 1: Crear DataFrame con datos de Enrique"
   ]
  },
  {
   "cell_type": "markdown",
   "metadata": {},
   "source": [
    "Crea un DataFrame llamado df a partir de la lista de razas y puntuaciones otorgadas por\n",
    "Enrique, usando el índice, las columnas que se te proporcionan.\n"
   ]
  },
  {
   "cell_type": "code",
   "execution_count": 2,
   "metadata": {},
   "outputs": [
    {
     "name": "stdout",
     "output_type": "stream",
     "text": [
      "             Raza  Puntos\n",
      "uno       Caniche     8.1\n",
      "dos       Bulldog     7.3\n",
      "tres     ChowChow     7.6\n",
      "cuatro  Chihuahua     9.0\n",
      "cinco    Labrador     9.3\n"
     ]
    }
   ],
   "source": [
    "indice = ['uno','dos','tres','cuatro','cinco']\n",
    "columnas = ['Raza','Puntos']\n",
    "lista = [['Caniche',8.1],['Bulldog',7.3],['ChowChow',7.6],\n",
    "         ['Chihuahua',9.0],['Labrador',9.3]]\n",
    "df = pd.DataFrame(lista, index=indice, columns=columnas)\n",
    "print(df)"
   ]
  },
  {
   "cell_type": "markdown",
   "metadata": {},
   "source": [
    "Utiliza la información que encontrarás en los contenidos de la unidad para crear un\n",
    "documento en el que escribirás el código fuente que Enrique ha necesitado seguir\n",
    "escribiendo para llegar a las soluciones correspondientes a lo que se te dice en los\n",
    "siguientes apartados.<br><br>\n",
    "Al final de los apartados te damos toda la salida por pantalla que deberá tener el\n",
    "programa, para que sepas con claridad si estás consiguiendo lo que se te solicita. Tendrás\n",
    "que usar constantemente la función print para ello.\n"
   ]
  },
  {
   "cell_type": "markdown",
   "metadata": {},
   "source": [
    "## Apartado 2: Añadir puntuaciones de Ana"
   ]
  },
  {
   "cell_type": "markdown",
   "metadata": {},
   "source": [
    "Ana le entrega sus puntuaciones a Enrique y éste las transcribe en forma de la siguiente\n",
    "lista:\n"
   ]
  },
  {
   "cell_type": "markdown",
   "metadata": {},
   "source": [
    "Añade la columna con etiqueta 'PuntosAna' al DataFrame"
   ]
  },
  {
   "cell_type": "code",
   "execution_count": 3,
   "metadata": {},
   "outputs": [
    {
     "name": "stdout",
     "output_type": "stream",
     "text": [
      "             Raza  Puntos  PuntosAna\n",
      "uno       Caniche     8.1         61\n",
      "dos       Bulldog     7.3         75\n",
      "tres     ChowChow     7.6         82\n",
      "cuatro  Chihuahua     9.0         95\n",
      "cinco    Labrador     9.3         99\n"
     ]
    }
   ],
   "source": [
    "df['PuntosAna'] = [61,75,82,95,99]\n",
    "print(df)"
   ]
  },
  {
   "cell_type": "markdown",
   "metadata": {},
   "source": [
    "## Apartado 3: Ajustar escala de PuntosAna"
   ]
  },
  {
   "cell_type": "markdown",
   "metadata": {},
   "source": [
    "Como las puntuaciones de Ana han entrado en valores de 0 a 100 y las de Enrique\n",
    "estaban de 0 a 10, divide la columna 'PuntosAna' entre 10 de modo que todas las\n",
    "puntuaciones queden en la misma escala.\n"
   ]
  },
  {
   "cell_type": "code",
   "execution_count": 4,
   "metadata": {},
   "outputs": [
    {
     "name": "stdout",
     "output_type": "stream",
     "text": [
      "             Raza  Puntos  PuntosAna\n",
      "uno       Caniche     8.1        6.1\n",
      "dos       Bulldog     7.3        7.5\n",
      "tres     ChowChow     7.6        8.2\n",
      "cuatro  Chihuahua     9.0        9.5\n",
      "cinco    Labrador     9.3        9.9\n"
     ]
    }
   ],
   "source": [
    "df['PuntosAna'] = df['PuntosAna'] / 10\n",
    "print(df)"
   ]
  },
  {
   "cell_type": "markdown",
   "metadata": {},
   "source": [
    "## Apartado 4: Añadir nuevas razas"
   ]
  },
  {
   "cell_type": "markdown",
   "metadata": {},
   "source": [
    "Enrique y Ana han estado viendo una revista de animales y han decidido añadir otras dos\n",
    "razas más, por lo que han creado la siguiente lista ya con sus puntuaciones integradas.\n"
   ]
  },
  {
   "cell_type": "code",
   "execution_count": 5,
   "metadata": {},
   "outputs": [
    {
     "name": "stdout",
     "output_type": "stream",
     "text": [
      "             Raza  Puntos  PuntosAna\n",
      "uno       Caniche     8.1        6.1\n",
      "dos       Bulldog     7.3        7.5\n",
      "tres     ChowChow     7.6        8.2\n",
      "cuatro  Chihuahua     9.0        9.5\n",
      "cinco    Labrador     9.3        9.9\n",
      "nuevo1   Samoyedo     9.2        8.9\n",
      "nuevo2   Pinscher     8.1        6.7\n"
     ]
    }
   ],
   "source": [
    "lista2 = [['Samoyedo',9.2,8.9],['Pinscher',8.1,6.7]]\n",
    "df2 = pd.DataFrame(lista2, index=['nuevo1', 'nuevo2'], columns=['Raza', 'Puntos', 'PuntosAna'])\n",
    "df = pd.concat([df, df2])\n",
    "print(df)"
   ]
  },
  {
   "cell_type": "markdown",
   "metadata": {},
   "source": [
    "## Apartado 5: Calcular la media"
   ]
  },
  {
   "cell_type": "markdown",
   "metadata": {},
   "source": [
    "Crea la columna 'Media' para poder ver la puntuación media para cada raza.\n"
   ]
  },
  {
   "cell_type": "code",
   "execution_count": 6,
   "metadata": {},
   "outputs": [
    {
     "name": "stdout",
     "output_type": "stream",
     "text": [
      "             Raza  Puntos  PuntosAna  Media\n",
      "uno       Caniche     8.1        6.1   7.10\n",
      "dos       Bulldog     7.3        7.5   7.40\n",
      "tres     ChowChow     7.6        8.2   7.90\n",
      "cuatro  Chihuahua     9.0        9.5   9.25\n",
      "cinco    Labrador     9.3        9.9   9.60\n",
      "nuevo1   Samoyedo     9.2        8.9   9.05\n",
      "nuevo2   Pinscher     8.1        6.7   7.40\n"
     ]
    }
   ],
   "source": [
    "df['Media'] = df[['Puntos', 'PuntosAna']].mean(axis=1)\n",
    "print(df)"
   ]
  },
  {
   "cell_type": "markdown",
   "metadata": {},
   "source": [
    "## Apartado 6: Eliminar Bulldog"
   ]
  },
  {
   "cell_type": "markdown",
   "metadata": {},
   "source": [
    "Enrique y Ana deciden que no tendrán un bulldog. Elimina la fila cuyo índice es 'dos'.\n"
   ]
  },
  {
   "cell_type": "code",
   "execution_count": 7,
   "metadata": {},
   "outputs": [
    {
     "name": "stdout",
     "output_type": "stream",
     "text": [
      "             Raza  Puntos  PuntosAna  Media\n",
      "uno       Caniche     8.1        6.1   7.10\n",
      "tres     ChowChow     7.6        8.2   7.90\n",
      "cuatro  Chihuahua     9.0        9.5   9.25\n",
      "cinco    Labrador     9.3        9.9   9.60\n",
      "nuevo1   Samoyedo     9.2        8.9   9.05\n",
      "nuevo2   Pinscher     8.1        6.7   7.40\n"
     ]
    }
   ],
   "source": [
    "df = df.drop(index='dos')\n",
    "print(df)"
   ]
  },
  {
   "cell_type": "markdown",
   "metadata": {},
   "source": [
    "## Apartado 7: Filtrar solo las razas seleccionadas"
   ]
  },
  {
   "cell_type": "markdown",
   "metadata": {},
   "source": [
    "Viendo las puntuaciones medias, Enrique y Ana deciden que la decisión va a estar entre\n",
    "chihuahua, labrador y samoyedo, por lo que deciden obtener sólo esas filas del\n",
    "DataFrame (en concreto desde la posición 2 hasta la 5 -no incluída-).\n"
   ]
  },
  {
   "cell_type": "code",
   "execution_count": 8,
   "metadata": {},
   "outputs": [
    {
     "name": "stdout",
     "output_type": "stream",
     "text": [
      "             Raza  Puntos  PuntosAna  Media\n",
      "cuatro  Chihuahua     9.0        9.5   9.25\n",
      "cinco    Labrador     9.3        9.9   9.60\n",
      "nuevo1   Samoyedo     9.2        8.9   9.05\n"
     ]
    }
   ],
   "source": [
    "df = df.loc['cuatro':'nuevo1']\n",
    "print(df)"
   ]
  },
  {
   "cell_type": "markdown",
   "metadata": {},
   "source": [
    "## Apartado 8: Mostrar estadísticas"
   ]
  },
  {
   "cell_type": "markdown",
   "metadata": {},
   "source": [
    "Por último, sólo por curiosidad, deciden ver información estadística sobre las filas que les\n",
    "han quedado."
   ]
  },
  {
   "cell_type": "code",
   "execution_count": null,
   "metadata": {},
   "outputs": [
    {
     "name": "stdout",
     "output_type": "stream",
     "text": [
      "         Puntos  PuntosAna     Media\n",
      "count  3.000000   3.000000  3.000000\n",
      "mean   9.166667   9.433333  9.300000\n",
      "std    0.152753   0.503322  0.278388\n",
      "min    9.000000   8.900000  9.050000\n",
      "25%    9.100000   9.200000  9.150000\n",
      "50%    9.200000   9.500000  9.250000\n",
      "75%    9.250000   9.700000  9.425000\n",
      "max    9.300000   9.900000  9.600000\n"
     ]
    }
   ],
   "source": [
    "describe_df = df[['Puntos', 'PuntosAna', 'Media']].describe()\n",
    "print(describe_df)"
   ]
  }
 ],
 "metadata": {
  "kernelspec": {
   "display_name": "Python 3",
   "language": "python",
   "name": "python3"
  },
  "language_info": {
   "codemirror_mode": {
    "name": "ipython",
    "version": 3
   },
   "file_extension": ".py",
   "mimetype": "text/x-python",
   "name": "python",
   "nbconvert_exporter": "python",
   "pygments_lexer": "ipython3",
   "version": "3.12.7"
  }
 },
 "nbformat": 4,
 "nbformat_minor": 2
}
